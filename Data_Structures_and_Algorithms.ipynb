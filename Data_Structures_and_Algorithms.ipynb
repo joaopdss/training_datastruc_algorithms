{
  "nbformat": 4,
  "nbformat_minor": 0,
  "metadata": {
    "colab": {
      "provenance": []
    },
    "kernelspec": {
      "name": "python3",
      "display_name": "Python 3"
    },
    "language_info": {
      "name": "python"
    }
  },
  "cells": [
    {
      "cell_type": "markdown",
      "source": [
        "## Solve a problem"
      ],
      "metadata": {
        "id": "LWz89iVnayPM"
      }
    },
    {
      "cell_type": "markdown",
      "source": [
        "1. State the problem clearly. Identify the input & output formats.\n",
        "2. Come up with some example inputs & outputs. Try to cover all edge cases.\n",
        "3. Come up with a correct solution for the problem. State it in plain English.\n",
        "4. Implement the solution and test it using example inputs. Fix bugs, if any.\n",
        "5. Analyze the algorithm's complexity and identify inefficiencies, if any.\n",
        "6. Apply the right technique to overcome the inefficiency. Repeat steps 3 to 6"
      ],
      "metadata": {
        "id": "QhiXu2n5bG-2"
      }
    },
    {
      "cell_type": "markdown",
      "source": [
        "**Problem**\n",
        "\n",
        "Alice has some cards with numbers written on them. She arranges the cards in decreasing order, and lays them out face down in a sequence on a table. She challenges Bob to pick out the card containing a given number by turning over as few cards as possible. Write a function to help Bob locate the card.\n",
        "\n",
        "![image.png](data:image/png;base64,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)"
      ],
      "metadata": {
        "id": "uNUD_tRsUA1S"
      }
    },
    {
      "cell_type": "markdown",
      "source": [
        "### 1. State the problem clearly. Identify the input & output formats**\n",
        "\n",
        "**Problem**\n",
        "We need to write a program to find the position of a given number in a list of numbers arranged in decreasing order. We also need to minimize the number of times we access elements from the list.\n",
        "\n",
        "**Input**\n",
        "1. cards: A list of numbers sorted in decreasing order. E.g. [13, 11, 10, 7, 4, 3, 1, 0]\n",
        "2. query: A number, whose position in the array is to be determined. E.g. 7\n",
        "\n",
        "**Output**\n",
        "position: The position of query in the list cards. E.g. 3 in the above case (counting from 0)"
      ],
      "metadata": {
        "id": "nI4kJTisSjjW"
      }
    },
    {
      "cell_type": "markdown",
      "source": [
        "### 2. Come up with some example inputs & outputs. Try to cover all edge cases.\n",
        "\n",
        "1. The number query occurs somewhere in the middle of the list cards.\n",
        "2. query is the first element in cards.\n",
        "3. query is the last element in cards.\n",
        "4. The list cards contains just one element, which is query.\n",
        "5. The list cards does not contain number query.\n",
        "6. The list cards is empty.\n",
        "7. The list cards contains repeating numbers.\n",
        "8. The number query occurs at more than one position in cards."
      ],
      "metadata": {
        "id": "KfvQ6C22TsaS"
      }
    },
    {
      "cell_type": "markdown",
      "source": [
        "### 3. Come up with a correct solution for the problem. State it in plain English.\n",
        "\n",
        "Our first goal should always be to come up with a correct solution to the problem, which may necessarily be the most efficient solution. The simplest or most obvious solution to a problem, which generally involves checking all possible answers is called the brute force solution.\n",
        "\n",
        "In this problem, coming up with a correct solution is quite easy: Bob can simply turn over cards in order one by one, till he find a card with the given number on it. Here's how we might implement it:\n",
        "\n",
        "1. Create a variable position with the value 0.\n",
        "2. Check whether the number at index position in card equals query.\n",
        "3. If it does, position is the answer and can be returned from the function\n",
        "4. If not, increment the value of position by 1, and repeat steps 2 to 5 till we reach the last position.\n",
        "5. If the number was not found, return -1."
      ],
      "metadata": {
        "id": "p3HACtZ_We0R"
      }
    },
    {
      "cell_type": "markdown",
      "source": [
        "### 6. Apply the right technique to overcome the inefficiency. Repeat steps 3 to 6.\n",
        "\n",
        "At the moment, we're simply going over cards one by one, and not even utilizing the face that they're sorted. This is called a *brute force* approach.\n",
        "\n",
        "It would be great if Bob could somehow guess the card at the first attempt, but with all the cards turned over it's simply impossible to guess the right card. \n",
        "\n",
        "\n",
        "<img src=\"https://i.imgur.com/mazym6s.png\" width=\"480\">\n",
        "\n",
        "The next best idea would be to pick a random card, and use the fact that the list is sorted, to determine whether the target card lies to the left or right of it. In fact, if we pick the middle card, we can reduce the number of additional cards to be tested to half the size of the list. Then, we can simply repeat the process with each half. This technique is called binary search. Here's a visual explanation of the technique:\n",
        "\n",
        "\n",
        "\n",
        "<img src=\"https://miro.medium.com/max/494/1*3eOrsoF9idyOp-0Ll9I9PA.png\" width=\"480\">\n",
        "\n"
      ],
      "metadata": {
        "id": "nHWgIMLDXBjy"
      }
    },
    {
      "cell_type": "markdown",
      "source": [
        "### 7. Come up with a correct solution for the problem. State it in plain English.\n",
        "\n",
        "Here's how binary search can be applied to our problem:\n",
        "\n",
        "1. Find the middle element of the list.\n",
        "2. If it matches queried number, return the middle position as the answer.\n",
        "3. If it is less than the queried number, then search the first half of the list\n",
        "3. If it is greater than the queried number, then search the second half of the list\n",
        "4. If no more elements remain, return -1.\n"
      ],
      "metadata": {
        "id": "9v2xTF_ydetW"
      }
    },
    {
      "cell_type": "code",
      "source": [],
      "metadata": {
        "id": "800m_zp8djrk"
      },
      "execution_count": null,
      "outputs": []
    }
  ]
}